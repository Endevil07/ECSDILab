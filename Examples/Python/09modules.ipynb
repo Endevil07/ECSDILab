{
 "worksheets": [
  {
   "cells": [
    {
     "cell_type": "heading",
     "metadata": {},
     "level": 1,
     "source": [
      "Modulos"
     ]
    },
    {
     "cell_type": "code",
     "metadata": {},
     "outputs": [],
     "input": [
      "from time import ctime\n",
      "\n",
      "ctime(1234455676)"
     ],
     "language": "python"
    },
    {
     "cell_type": "code",
     "metadata": {},
     "outputs": [
      {
       "output_type": "pyout",
       "text": [
        "time.struct_time(tm_year=2015, tm_mon=2, tm_mday=11, tm_hour=15, tm_min=37, tm_sec=34, tm_wday=2, tm_yday=42, tm_isdst=0)"
       ],
       "metadata": {}
      }
     ],
     "input": [
      "from time import localtime\n",
      "\n",
      "localtime()"
     ],
     "language": "python",
     "prompt_number": 6
    },
    {
     "cell_type": "code",
     "metadata": {},
     "outputs": [
      {
       "output_type": "pyout",
       "text": [
        "time.struct_time(tm_year=2015, tm_mon=2, tm_mday=11, tm_hour=15, tm_min=43, tm_sec=59, tm_wday=2, tm_yday=42, tm_isdst=0)"
       ],
       "metadata": {}
      }
     ],
     "input": [
      "from time import localtime as lt\n",
      "lt()"
     ],
     "language": "python",
     "prompt_number": 17
    },
    {
     "cell_type": "code",
     "metadata": {},
     "outputs": [
      {
       "output_type": "pyout",
       "text": [
        "[-1, 1, 3, 7]"
       ],
       "metadata": {}
      }
     ],
     "input": [
      "import heapq as hp \n",
      "\n",
      "a = []\n",
      "hp.heappush(a, 1)\n",
      "hp.heappush(a, 7)\n",
      "hp.heappush(a, 3)\n",
      "hp.heappush(a, -1)\n",
      "\n",
      "a"
     ],
     "language": "python",
     "prompt_number": 15
    },
    {
     "cell_type": "code",
     "metadata": {},
     "outputs": [
      {
       "output_type": "pyout",
       "text": [
        "-1"
       ],
       "metadata": {}
      }
     ],
     "input": [
      "hp.heappop(a)"
     ],
     "language": "python",
     "prompt_number": 16
    },
    {
     "cell_type": "code",
     "metadata": {},
     "outputs": [],
     "input": [
      ""
     ],
     "language": "python"
    }
   ]
  }
 ],
 "cells": [],
 "metadata": {},
 "nbformat": 3,
 "nbformat_minor": 0
}