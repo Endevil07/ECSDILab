{
 "worksheets": [
  {
   "cells": [
    {
     "cell_type": "heading",
     "metadata": {},
     "level": 1,
     "source": [
      "Clases"
     ]
    },
    {
     "cell_type": "code",
     "metadata": {},
     "outputs": [
      {
       "output_type": "stream",
       "stream": "stdout",
       "text": [
        "pepe 33\n"
       ]
      }
     ],
     "input": [
      "class persona():\n",
      "    \"\"\"\n",
      "    Clase de personas\n",
      "    \"\"\"\n",
      "    def __init__(self, nombre, edad):\n",
      "        self.nombre = nombre\n",
      "        self.edad = edad\n",
      "        \n",
      "    def __str__(self):\n",
      "        return self.nombre + ' ' + str(self.edad)\n",
      "        \n",
      "        \n",
      "        \n",
      "pepe = persona('pepe', 33)\n",
      "\n",
      "print pepe"
     ],
     "language": "python",
     "prompt_number": 6
    },
    {
     "cell_type": "code",
     "metadata": {},
     "outputs": [
      {
       "output_type": "stream",
       "stream": "stdout",
       "text": [
        "pepe 33\nsu casa\npepe 28\n"
       ]
      }
     ],
     "input": [
      "pepe.domicilio = 'su casa'\n",
      "\n",
      "print pepe\n",
      "\n",
      "print pepe.domicilio\n",
      "\n",
      "pepe.edad = 28\n",
      "\n",
      "print pepe"
     ],
     "language": "python",
     "prompt_number": 9
    },
    {
     "cell_type": "code",
     "metadata": {},
     "outputs": [],
     "input": [
      "class barcelones(persona):\n",
      "    ciudad = barcelona\n",
      "    def __str__(self):\n",
      "        return persona.__str__() + self.ciudad\n",
      "    \n",
      "juan = barcelones('juan', 27)\n",
      "\n",
      "print juan"
     ],
     "language": "python"
    },
    {
     "cell_type": "code",
     "metadata": {},
     "outputs": [],
     "input": [
      ""
     ],
     "language": "python"
    }
   ]
  }
 ],
 "cells": [],
 "metadata": {},
 "nbformat": 3,
 "nbformat_minor": 0
}