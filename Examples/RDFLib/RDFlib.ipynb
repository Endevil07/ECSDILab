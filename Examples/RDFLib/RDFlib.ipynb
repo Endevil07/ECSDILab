{
 "metadata": {
  "signature": "sha256:4ee6c590e2e96bf21425d7fcf3df48ff542bc68f7ea62ebf5e22a70358b12291"
 },
 "nbformat": 3,
 "nbformat_minor": 0,
 "worksheets": [
  {
   "cells": [
    {
     "cell_type": "heading",
     "level": 1,
     "metadata": {},
     "source": [
      "Ejemplos de RDFlib"
     ]
    },
    {
     "cell_type": "markdown",
     "metadata": {},
     "source": [
      "Ejemplos de como usar rdflib para representar conceptos"
     ]
    },
    {
     "cell_type": "markdown",
     "metadata": {},
     "source": [
      "Creamos un grafo de conceptos vac\u00edo y un espacio de nombres que usaremos para los ejemplos"
     ]
    },
    {
     "cell_type": "code",
     "collapsed": false,
     "input": [
      "from rdflib.namespace import RDF, RDFS, Namespace, FOAF\n",
      "from rdflib import Graph, BNode, Literal\n",
      "\n",
      "g = Graph()\n",
      "\n",
      "n = Namespace('http://ejemplo.org/')"
     ],
     "language": "python",
     "metadata": {},
     "outputs": [],
     "prompt_number": 4
    },
    {
     "cell_type": "markdown",
     "metadata": {},
     "source": [
      "Definimos un recurso que sea una persona"
     ]
    },
    {
     "cell_type": "code",
     "collapsed": false,
     "input": [
      "p1 = n.pedro\n",
      "p1"
     ],
     "language": "python",
     "metadata": {},
     "outputs": [
      {
       "metadata": {},
       "output_type": "pyout",
       "prompt_number": 5,
       "text": [
        "rdflib.term.URIRef(u'http://ejemplo.org/pedro')"
       ]
      }
     ],
     "prompt_number": 5
    },
    {
     "cell_type": "code",
     "collapsed": false,
     "input": [
      "g.add((p1, RDF.type, FOAF.person))"
     ],
     "language": "python",
     "metadata": {},
     "outputs": [],
     "prompt_number": 6
    },
    {
     "cell_type": "markdown",
     "metadata": {},
     "source": [
      "Le a\u00f1adimos un atributo edad con un valor que sera de la clase literal"
     ]
    },
    {
     "cell_type": "code",
     "collapsed": false,
     "input": [
      "v = Literal(22)\n",
      "v"
     ],
     "language": "python",
     "metadata": {},
     "outputs": [
      {
       "metadata": {},
       "output_type": "pyout",
       "prompt_number": 7,
       "text": [
        "rdflib.term.Literal(u'22', datatype=rdflib.term.URIRef(u'http://www.w3.org/2001/XMLSchema#integer'))"
       ]
      }
     ],
     "prompt_number": 7
    },
    {
     "cell_type": "code",
     "collapsed": false,
     "input": [
      "g.add((p1, FOAF.age, v))"
     ],
     "language": "python",
     "metadata": {},
     "outputs": [],
     "prompt_number": 8
    },
    {
     "cell_type": "markdown",
     "metadata": {},
     "source": [
      "Podemos ver el resultado en RDF (XML)"
     ]
    },
    {
     "cell_type": "code",
     "collapsed": false,
     "input": [
      "print g.serialize(format='xml')"
     ],
     "language": "python",
     "metadata": {},
     "outputs": [
      {
       "output_type": "stream",
       "stream": "stdout",
       "text": [
        "<?xml version=\"1.0\" encoding=\"UTF-8\"?>\n",
        "<rdf:RDF\n",
        "   xmlns:ns1=\"http://xmlns.com/foaf/0.1/\"\n",
        "   xmlns:rdf=\"http://www.w3.org/1999/02/22-rdf-syntax-ns#\"\n",
        ">\n",
        "  <rdf:Description rdf:about=\"http://ejemplo.org/pedro\">\n",
        "    <rdf:type rdf:resource=\"http://xmlns.com/foaf/0.1/person\"/>\n",
        "    <ns1:age rdf:datatype=\"http://www.w3.org/2001/XMLSchema#integer\">22</ns1:age>\n",
        "  </rdf:Description>\n",
        "</rdf:RDF>\n",
        "\n"
       ]
      }
     ],
     "prompt_number": 9
    },
    {
     "cell_type": "markdown",
     "metadata": {},
     "source": [
      "O en formato *turtle* que es un poco mas legible"
     ]
    },
    {
     "cell_type": "code",
     "collapsed": false,
     "input": [
      "print g.serialize(format='turtle')"
     ],
     "language": "python",
     "metadata": {},
     "outputs": [
      {
       "output_type": "stream",
       "stream": "stdout",
       "text": [
        "@prefix ns1: <http://xmlns.com/foaf/0.1/> .\n",
        "@prefix rdf: <http://www.w3.org/1999/02/22-rdf-syntax-ns#> .\n",
        "@prefix rdfs: <http://www.w3.org/2000/01/rdf-schema#> .\n",
        "@prefix xml: <http://www.w3.org/XML/1998/namespace> .\n",
        "@prefix xsd: <http://www.w3.org/2001/XMLSchema#> .\n",
        "\n",
        "<http://ejemplo.org/pedro> a ns1:person ;\n",
        "    ns1:age 22 .\n",
        "\n",
        "\n"
       ]
      }
     ],
     "prompt_number": 10
    },
    {
     "cell_type": "code",
     "collapsed": false,
     "input": [],
     "language": "python",
     "metadata": {},
     "outputs": [],
     "prompt_number": 10
    }
   ],
   "metadata": {}
  }
 ]
}