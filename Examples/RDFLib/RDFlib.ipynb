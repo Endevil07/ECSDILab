{
 "worksheets": [
  {
   "cells": [
    {
     "cell_type": "heading",
     "metadata": {},
     "level": 1,
     "source": [
      "Ejemplos de RDFlib"
     ]
    },
    {
     "cell_type": "markdown",
     "metadata": {},
     "source": [
      "Ejemplos de como usar rdflib para representar conceptos"
     ]
    },
    {
     "cell_type": "markdown",
     "metadata": {},
     "source": [
      "Creamos un grafo de conceptos vacío y un espacio de nombres que usaremos para los ejemplos"
     ]
    },
    {
     "cell_type": "code",
     "metadata": {},
     "outputs": [],
     "input": [
      "from rdflib.namespace import RDF, RDFS, Namespace, FOAF, OWL\n",
      "from rdflib import Graph, BNode, Literal\n",
      "\n",
      "g = Graph()\n",
      "\n",
      "n = Namespace('http://ejemplo.org/')\n",
      "g.bind('ejemplo', n)\n",
      "g.bind('FOAF', FOAF)\n",
      "g.bind('OWL', OWL)"
     ],
     "language": "python",
     "prompt_number": 74
    },
    {
     "cell_type": "markdown",
     "metadata": {},
     "source": [
      "Definimos un recurso que sea una persona"
     ]
    },
    {
     "cell_type": "code",
     "metadata": {},
     "outputs": [
      {
       "output_type": "pyout",
       "text": [
        "rdflib.term.URIRef(u'http://ejemplo.org/pedro')"
       ],
       "metadata": {}
      }
     ],
     "input": [
      "p1 = n.pedro\n",
      "p1"
     ],
     "language": "python",
     "prompt_number": 75
    },
    {
     "cell_type": "code",
     "metadata": {},
     "outputs": [],
     "input": [
      "g.add((p1, RDF.type, FOAF.person))"
     ],
     "language": "python",
     "prompt_number": 76
    },
    {
     "cell_type": "markdown",
     "metadata": {},
     "source": [
      "Le añadimos un atributo edad con un valor que sera de la clase literal"
     ]
    },
    {
     "cell_type": "code",
     "metadata": {},
     "outputs": [
      {
       "output_type": "pyout",
       "text": [
        "rdflib.term.Literal(u'22', datatype=rdflib.term.URIRef(u'http://www.w3.org/2001/XMLSchema#integer'))"
       ],
       "metadata": {}
      }
     ],
     "input": [
      "v = Literal(22)\n",
      "v"
     ],
     "language": "python",
     "prompt_number": 77
    },
    {
     "cell_type": "code",
     "metadata": {},
     "outputs": [],
     "input": [
      "g.add((p1, FOAF.age, v))"
     ],
     "language": "python",
     "prompt_number": 78
    },
    {
     "cell_type": "markdown",
     "metadata": {},
     "source": [
      "Podemos ver el resultado en RDF (XML)"
     ]
    },
    {
     "cell_type": "code",
     "metadata": {},
     "outputs": [
      {
       "output_type": "stream",
       "stream": "stdout",
       "text": [
        "<?xml version=\"1.0\" encoding=\"UTF-8\"?>\n<rdf:RDF\n   xmlns:FOAF=\"http://xmlns.com/foaf/0.1/\"\n   xmlns:rdf=\"http://www.w3.org/1999/02/22-rdf-syntax-ns#\"\n>\n  <rdf:Description rdf:about=\"http://ejemplo.org/pedro\">\n    <FOAF:age rdf:datatype=\"http://www.w3.org/2001/XMLSchema#integer\">22</FOAF:age>\n    <rdf:type rdf:resource=\"http://xmlns.com/foaf/0.1/person\"/>\n  </rdf:Description>\n</rdf:RDF>\n\n"
       ]
      }
     ],
     "input": [
      "print g.serialize(format='xml')"
     ],
     "language": "python",
     "prompt_number": 79
    },
    {
     "cell_type": "markdown",
     "metadata": {},
     "source": [
      "O en formato *turtle* que es un poco mas legible"
     ]
    },
    {
     "cell_type": "code",
     "metadata": {},
     "outputs": [
      {
       "output_type": "stream",
       "stream": "stdout",
       "text": [
        "@prefix FOAF: <http://xmlns.com/foaf/0.1/> .\n@prefix OWL: <http://www.w3.org/2002/07/owl#> .\n@prefix ejemplo: <http://ejemplo.org/> .\n@prefix rdf: <http://www.w3.org/1999/02/22-rdf-syntax-ns#> .\n@prefix rdfs: <http://www.w3.org/2000/01/rdf-schema#> .\n@prefix xml: <http://www.w3.org/XML/1998/namespace> .\n@prefix xsd: <http://www.w3.org/2001/XMLSchema#> .\n\nejemplo:pedro a FOAF:person ;\n    FOAF:age 22 .\n\n\n"
       ]
      }
     ],
     "input": [
      "print g.serialize(format='turtle')"
     ],
     "language": "python",
     "prompt_number": 80
    },
    {
     "cell_type": "code",
     "metadata": {},
     "outputs": [],
     "input": [
      "g.add((n.Barcelones, RDF.type, OWL.Class))\n",
      "g.add((n.Europeo, RDF.type, OWL.Class))\n",
      "g.add((n.Barcelones, RDFS.subClassOf, n.Europeo))"
     ],
     "language": "python",
     "prompt_number": 86
    },
    {
     "cell_type": "code",
     "metadata": {},
     "outputs": [],
     "input": [
      "g.add((p1, RDF.type, n.Barcelones))"
     ],
     "language": "python",
     "prompt_number": 87
    },
    {
     "cell_type": "code",
     "metadata": {},
     "outputs": [
      {
       "output_type": "stream",
       "stream": "stdout",
       "text": [
        "@prefix FOAF: <http://xmlns.com/foaf/0.1/> .\n@prefix OWL: <http://www.w3.org/2002/07/owl#> .\n@prefix ejemplo: <http://ejemplo.org/> .\n@prefix rdf: <http://www.w3.org/1999/02/22-rdf-syntax-ns#> .\n@prefix rdfs: <http://www.w3.org/2000/01/rdf-schema#> .\n@prefix xml: <http://www.w3.org/XML/1998/namespace> .\n@prefix xsd: <http://www.w3.org/2001/XMLSchema#> .\n\nejemplo:pedro a ejemplo:Barcelones,\n        FOAF:person ;\n    FOAF:age 22 .\n\nejemplo:Barcelones a OWL:Class ;\n    rdfs:subClassOf ejemplo:Europeo .\n\nejemplo:Europeo a OWL:Class .\n\n\n"
       ]
      }
     ],
     "input": [
      "print g.serialize(format='turtle')"
     ],
     "language": "python",
     "prompt_number": 88
    },
    {
     "cell_type": "code",
     "metadata": {},
     "outputs": [
      {
       "output_type": "stream",
       "stream": "stdout",
       "text": [
        "http://ejemplo.org/pedro http://ejemplo.org/Barcelones http://www.w3.org/1999/02/22-rdf-syntax-ns#type\nhttp://ejemplo.org/pedro http://xmlns.com/foaf/0.1/person http://www.w3.org/1999/02/22-rdf-syntax-ns#type\n"
       ]
      }
     ],
     "input": [
      "res = g.triples((n.pedro, RDF.type, None))\n",
      "for s, p, o in res:\n",
      "    print s, o, p"
     ],
     "language": "python",
     "prompt_number": 89
    },
    {
     "cell_type": "code",
     "metadata": {},
     "outputs": [],
     "input": [
      "res = g.transitive_objects(n.pedro, RDF.type)"
     ],
     "language": "python",
     "prompt_number": 90
    },
    {
     "cell_type": "code",
     "metadata": {},
     "outputs": [],
     "input": [
      "for r in res:\n",
      "    print r"
     ],
     "language": "python"
    },
    {
     "cell_type": "code",
     "metadata": {},
     "outputs": [],
     "input": [
      ""
     ],
     "language": "python"
    }
   ]
  }
 ],
 "cells": [],
 "metadata": {
  "signature": "sha256:4ee6c590e2e96bf21425d7fcf3df48ff542bc68f7ea62ebf5e22a70358b12291"
 },
 "nbformat": 3,
 "nbformat_minor": 0
}