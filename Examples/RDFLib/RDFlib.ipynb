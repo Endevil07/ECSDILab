{
 "worksheets": [
  {
   "cells": [
    {
     "cell_type": "heading",
     "metadata": {},
     "level": 1,
     "source": [
      "Ejemplos de RDFlib"
     ]
    },
    {
     "cell_type": "markdown",
     "metadata": {},
     "source": [
      "Ejemplos de como usar rdflib para representar conceptos"
     ]
    },
    {
     "cell_type": "markdown",
     "metadata": {},
     "source": [
      "Creamos un grafo de conceptos vacío y un espacio de nombres que usaremos para los ejemplos"
     ]
    },
    {
     "cell_type": "code",
     "metadata": {},
     "outputs": [],
     "input": [
      "from rdflib.namespace import RDF, RDFS, Namespace, FOAF\n",
      "from rdflib import Graph, BNode, Literal\n",
      "\n",
      "g = Graph()\n",
      "\n",
      "n = Namespace('http://ejemplo.org/')"
     ],
     "language": "python",
     "prompt_number": 4
    },
    {
     "cell_type": "code",
     "metadata": {},
     "outputs": [
      {
       "output_type": "pyout",
       "text": [
        "rdflib.term.URIRef(u'http://ejemplo.org/persona1')"
       ],
       "metadata": {}
      }
     ],
     "input": [
      "p1 = n.persona1\n",
      "p1"
     ],
     "language": "python",
     "prompt_number": 6
    },
    {
     "cell_type": "code",
     "metadata": {},
     "outputs": [],
     "input": [
      ""
     ],
     "language": "python"
    }
   ]
  }
 ],
 "cells": [],
 "metadata": {},
 "nbformat": 3,
 "nbformat_minor": 0
}